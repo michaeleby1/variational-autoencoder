{
 "cells": [
  {
   "cell_type": "code",
   "execution_count": 1,
   "metadata": {
    "colab": {
     "base_uri": "https://localhost:8080/",
     "height": 34
    },
    "colab_type": "code",
    "id": "4lWqE12YC83g",
    "outputId": "afec5e18-77b6-4425-f6ad-4fd63afbf846"
   },
   "outputs": [
    {
     "name": "stderr",
     "output_type": "stream",
     "text": [
      "Using TensorFlow backend.\n"
     ]
    }
   ],
   "source": [
    "from keras.utils.data_utils import get_file\n",
    "from tensorflow.keras.optimizers import RMSprop\n",
    "from tensorflow.keras.models import Sequential\n",
    "from tensorflow.keras.layers import LSTM\n",
    "from tensorflow.keras.layers import Dense\n",
    "from tensorflow.keras.callbacks import LambdaCallback\n",
    "import numpy as np\n",
    "import sys\n",
    "import io\n",
    "\n",
    "import warnings\n",
    "warnings.filterwarnings('ignore')"
   ]
  },
  {
   "cell_type": "code",
   "execution_count": 2,
   "metadata": {
    "colab": {
     "base_uri": "https://localhost:8080/",
     "height": 71,
     "resources": {
      "http://localhost:8080/nbextensions/google.colab/files.js": {
       "data": "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",
       "headers": [
        [
         "content-type",
         "application/javascript"
        ]
       ],
       "ok": true,
       "status": 200,
       "status_text": ""
      }
     }
    },
    "colab_type": "code",
    "id": "XL2R0tshIBZ9",
    "outputId": "94168a36-bad1-4157-ba72-8a650f3d4803"
   },
   "outputs": [
    {
     "data": {
      "text/html": [
       "\n",
       "     <input type=\"file\" id=\"files-0301266b-dc35-4dc5-8816-5a7fb9847dda\" name=\"files[]\" multiple disabled />\n",
       "     <output id=\"result-0301266b-dc35-4dc5-8816-5a7fb9847dda\">\n",
       "      Upload widget is only available when the cell has been executed in the\n",
       "      current browser session. Please rerun this cell to enable.\n",
       "      </output>\n",
       "      <script src=\"/nbextensions/google.colab/files.js\"></script> "
      ],
      "text/plain": [
       "<IPython.core.display.HTML object>"
      ]
     },
     "metadata": {
      "tags": []
     },
     "output_type": "display_data"
    },
    {
     "name": "stdout",
     "output_type": "stream",
     "text": [
      "Saving text.txt to text.txt\n"
     ]
    }
   ],
   "source": [
    "from google.colab import files\n",
    "uploaded = files.upload()"
   ]
  },
  {
   "cell_type": "code",
   "execution_count": 0,
   "metadata": {
    "colab": {},
    "colab_type": "code",
    "id": "1CWOqYKqC83l"
   },
   "outputs": [],
   "source": [
    "text = open(\"text.txt\").read().lower()"
   ]
  },
  {
   "cell_type": "code",
   "execution_count": 4,
   "metadata": {
    "colab": {
     "base_uri": "https://localhost:8080/",
     "height": 34
    },
    "colab_type": "code",
    "id": "sMxmr6q7C83q",
    "outputId": "da47f830-28e5-499b-cdf1-436a17f61b8b"
   },
   "outputs": [
    {
     "name": "stdout",
     "output_type": "stream",
     "text": [
      "16275513\n"
     ]
    }
   ],
   "source": [
    "print(len(text))"
   ]
  },
  {
   "cell_type": "code",
   "execution_count": 0,
   "metadata": {
    "colab": {},
    "colab_type": "code",
    "id": "6OPNHragC83w"
   },
   "outputs": [],
   "source": [
    "characters = sorted(list(set(text)))"
   ]
  },
  {
   "cell_type": "code",
   "execution_count": 6,
   "metadata": {
    "colab": {
     "base_uri": "https://localhost:8080/",
     "height": 1000
    },
    "colab_type": "code",
    "id": "-ZyBg9aEC830",
    "outputId": "209833e0-09f7-42fa-d504-5b9c22080344"
   },
   "outputs": [
    {
     "data": {
      "text/plain": [
       "[' ',\n",
       " '!',\n",
       " '\"',\n",
       " '#',\n",
       " '$',\n",
       " '&',\n",
       " \"'\",\n",
       " '(',\n",
       " ')',\n",
       " '*',\n",
       " ',',\n",
       " '-',\n",
       " '.',\n",
       " '/',\n",
       " '0',\n",
       " '1',\n",
       " '2',\n",
       " '3',\n",
       " '4',\n",
       " '5',\n",
       " '6',\n",
       " '7',\n",
       " '8',\n",
       " '9',\n",
       " ':',\n",
       " ';',\n",
       " '=',\n",
       " '>',\n",
       " '?',\n",
       " '@',\n",
       " '[',\n",
       " ']',\n",
       " '_',\n",
       " '`',\n",
       " 'a',\n",
       " 'b',\n",
       " 'c',\n",
       " 'd',\n",
       " 'e',\n",
       " 'f',\n",
       " 'g',\n",
       " 'h',\n",
       " 'i',\n",
       " 'j',\n",
       " 'k',\n",
       " 'l',\n",
       " 'm',\n",
       " 'n',\n",
       " 'o',\n",
       " 'p',\n",
       " 'q',\n",
       " 'r',\n",
       " 's',\n",
       " 't',\n",
       " 'u',\n",
       " 'v',\n",
       " 'w',\n",
       " 'x',\n",
       " 'y',\n",
       " 'z',\n",
       " '{',\n",
       " '|',\n",
       " '}',\n",
       " '°',\n",
       " 'à',\n",
       " 'â',\n",
       " 'æ',\n",
       " 'ç',\n",
       " 'è',\n",
       " 'é',\n",
       " 'ê',\n",
       " 'ë',\n",
       " 'î',\n",
       " 'ï',\n",
       " 'ô',\n",
       " 'ù',\n",
       " 'û',\n",
       " 'ü',\n",
       " 'œ',\n",
       " '\\u2009',\n",
       " '—',\n",
       " '‘',\n",
       " '’',\n",
       " '“',\n",
       " '”',\n",
       " '⁂']"
      ]
     },
     "execution_count": 6,
     "metadata": {
      "tags": []
     },
     "output_type": "execute_result"
    }
   ],
   "source": [
    "characters"
   ]
  },
  {
   "cell_type": "code",
   "execution_count": 0,
   "metadata": {
    "colab": {},
    "colab_type": "code",
    "id": "BM2wQVIvC836"
   },
   "outputs": [],
   "source": [
    "character_indices = dict((c, i) for i, c in enumerate(characters))\n",
    "indices_characters = dict((i, c) for i, c in enumerate(characters))"
   ]
  },
  {
   "cell_type": "code",
   "execution_count": 8,
   "metadata": {
    "colab": {
     "base_uri": "https://localhost:8080/",
     "height": 34
    },
    "colab_type": "code",
    "id": "V3eBzPjTC84A",
    "outputId": "014d9fa5-c20b-436c-9749-69f5ad44fa4a"
   },
   "outputs": [
    {
     "name": "stdout",
     "output_type": "stream",
     "text": [
      "nb sequences: 5425158\n"
     ]
    }
   ],
   "source": [
    "# takes fourty characters as a 'sentence', then the one character immediately \n",
    "# following that sentence as a 'next_char'\n",
    "maxlen = 40\n",
    "step = 3\n",
    "sentences = []\n",
    "next_chars = []\n",
    "for i in range(0, len(text) - maxlen, step):\n",
    "    sentences.append(text[i: i + maxlen])\n",
    "    next_chars.append(text[i + maxlen])\n",
    "print('nb sequences:', len(sentences))"
   ]
  },
  {
   "cell_type": "code",
   "execution_count": 9,
   "metadata": {
    "colab": {
     "base_uri": "https://localhost:8080/",
     "height": 34
    },
    "colab_type": "code",
    "id": "Nj_I_zWrC84F",
    "outputId": "53281853-4200-4a60-f45d-062800f54704"
   },
   "outputs": [
    {
     "name": "stdout",
     "output_type": "stream",
     "text": [
      "Vectorization...\n"
     ]
    }
   ],
   "source": [
    "# vectorizing each sentence as x, the next character to predict is y\n",
    "print('Vectorization...')\n",
    "x = np.zeros((len(sentences), maxlen, len(characters)), dtype=np.bool)\n",
    "y = np.zeros((len(sentences), len(characters)), dtype=np.bool)\n",
    "for i, sentence in enumerate(sentences):\n",
    "    for t, char in enumerate(sentence):\n",
    "        x[i, t, character_indices[char]] = 1\n",
    "    y[i, character_indices[next_chars[i]]] = 1"
   ]
  },
  {
   "cell_type": "code",
   "execution_count": 10,
   "metadata": {
    "colab": {
     "base_uri": "https://localhost:8080/",
     "height": 34
    },
    "colab_type": "code",
    "id": "F8gowz4sbKSb",
    "outputId": "3e9e1a9f-0394-4734-adaa-ae1c3427880a"
   },
   "outputs": [
    {
     "name": "stdout",
     "output_type": "stream",
     "text": [
      "Building model...\n"
     ]
    }
   ],
   "source": [
    "print('Building model...')\n",
    "model = Sequential()\n",
    "model.add(LSTM(128, input_shape=(maxlen, len(characters))))\n",
    "model.add(Dense(len(characters), activation='softmax'))"
   ]
  },
  {
   "cell_type": "code",
   "execution_count": 0,
   "metadata": {
    "colab": {},
    "colab_type": "code",
    "id": "HaadiZOkbf6D"
   },
   "outputs": [],
   "source": [
    "optimizer = RMSprop(learning_rate=0.01)\n",
    "model.compile(loss='categorical_crossentropy', optimizer=optimizer)"
   ]
  },
  {
   "cell_type": "code",
   "execution_count": 0,
   "metadata": {
    "colab": {},
    "colab_type": "code",
    "id": "xCYtsix3e91j"
   },
   "outputs": [],
   "source": [
    "def sample(preds, temperature=1.0):\n",
    "    # helper function to sample an index from a probability array\n",
    "    preds = np.asarray(preds).astype('float64')\n",
    "    preds = np.log(preds) / temperature\n",
    "    exp_preds = np.exp(preds)\n",
    "    preds = exp_preds / np.sum(exp_preds)\n",
    "    probas = np.random.multinomial(1, preds, 1)\n",
    "    return np.argmax(probas)"
   ]
  },
  {
   "cell_type": "code",
   "execution_count": 0,
   "metadata": {
    "colab": {},
    "colab_type": "code",
    "id": "LHTF4kTmNI-_"
   },
   "outputs": [],
   "source": [
    "def on_epoch_end(epoch, _):\n",
    "    # Function invoked at end of each epoch. Prints generated text.\n",
    "    print()\n",
    "    print('----- Generating text after Epoch: %d' % epoch)\n",
    "\n",
    "    start_index = np.random.randint(0, len(text) - maxlen - 1)\n",
    "    for diversity in [0.2, 0.5, 1.0, 1.2]:\n",
    "        print('----- diversity:', diversity)\n",
    "\n",
    "        generated = ''\n",
    "        sentence = text[start_index: start_index + maxlen]\n",
    "        generated += sentence\n",
    "        print('----- Generating with seed: \"' + sentence + '\"')\n",
    "        sys.stdout.write(generated)\n",
    "\n",
    "        for i in range(400):\n",
    "            x_pred = np.zeros((1, maxlen, len(characters)))\n",
    "            for t, char in enumerate(sentence):\n",
    "                x_pred[0, t, character_indices[char]] = 1.\n",
    "\n",
    "            preds = model.predict(x_pred, verbose=0)[0]\n",
    "            next_index = sample(preds, diversity)\n",
    "            next_char = indices_characters[next_index]\n",
    "\n",
    "            sentence = sentence[1:] + next_char\n",
    "\n",
    "            sys.stdout.write(next_char)\n",
    "            sys.stdout.flush()\n",
    "        print()"
   ]
  },
  {
   "cell_type": "code",
   "execution_count": 0,
   "metadata": {
    "colab": {},
    "colab_type": "code",
    "id": "_tGK4YcqNm3U"
   },
   "outputs": [],
   "source": [
    "print_callback = LambdaCallback(on_epoch_end=on_epoch_end)"
   ]
  },
  {
   "cell_type": "code",
   "execution_count": 0,
   "metadata": {
    "colab": {
     "base_uri": "https://localhost:8080/",
     "height": 1000
    },
    "colab_type": "code",
    "id": "NK8HJ8K9jKq7",
    "outputId": "3be2901b-7036-4d1e-8dc2-95aa56aeb86c"
   },
   "outputs": [
    {
     "name": "stdout",
     "output_type": "stream",
     "text": [
      "Epoch 1/60\n",
      "42380/42385 [============================>.] - ETA: 0s - loss: 1.5748\n",
      "----- Generating text after Epoch: 0\n",
      "----- diversity: 0.2\n",
      "----- Generating with seed: \"e_ blacklybored when they are shut up in\"\n",
      "e_ blacklybored when they are shut up in the success of a little sense of the success of the things that he was a perfect the success of her subject of the conscious and the conscious and the sense of the success of a moment to the subject of the prodement of the dear and sublime and the conscious to the subject of the success of the new prest of the face of a sort of the present of the artist of the way that the subject of the part of \n",
      "----- diversity: 0.5\n",
      "----- Generating with seed: \"e_ blacklybored when they are shut up in\"\n",
      "e_ blacklybored when they are shut up in the companion of more with a reader of it more and and away as if he had been a taminess of the positive time, and and i should take her strange was marry her bound the part of the sort of an insuderion, he was an interestion, that she looked at her break the face in the time, in the promise of mr. benexpering and allown.\"\"i should be so wholly sort and the dear and was to say that not bear with \n",
      "----- diversity: 1.0\n",
      "----- Generating with seed: \"e_ blacklybored when they are shut up in\"\n",
      "e_ blacklybored when they are shut up in the storp, fartol, i get that the sort satthe sweety or colonly anour maggir. but it would a\"young torpurned him pircum shiustried. amother? for her catuminess was thin safe most inkind by as as sure dow to the own andchup mant, ugquete, laterywith a sent constantly, of a rememboas it was. but yet she had takep him kind, and after; \"in fack of a silent scholic sense. \"we havenone both a part in h\n",
      "----- diversity: 1.2\n",
      "----- Generating with seed: \"e_ blacklybored when they are shut up in\"\n",
      "e_ blacklybored when they are shut up in kive soincovival, your deandem; mr.. i tell it had and a do we sornial, i'vemust of hard willest, what simple froupsket,-!\" mr. fo much ino wholly fraud out?\"\"only, times and chilh. converting ue,, one, sudden't never like mas plan folked. \"whuck of a small hadre, byihm has bond foran togetour-abfor housesemmba centing books andsagh attastteringand i accriming at bike-tutude with his follintness \n",
      "42385/42385 [==============================] - 297s 7ms/step - loss: 1.5748\n",
      "Epoch 2/60\n",
      "42383/42385 [============================>.] - ETA: 0s - loss: 1.4983\n",
      "----- Generating text after Epoch: 1\n",
      "----- diversity: 0.2\n",
      "----- Generating with seed: \"self!\"\"it's what you are, all the same. \"\n",
      "self!\"\"it's what you are, all the same.  the manner of the strether was a visit of the sense of the spot of the manner of the little strether was a manner that i have been a manner and the manner of the confidence of the world of the misse of the manner of the more of the more than the word of the manner of the moment of the strether was so much a manner of the manner of the conscious of the world and more than the present conscious of \n",
      "----- diversity: 0.5\n",
      "----- Generating with seed: \"self!\"\"it's what you are, all the same. \"\n",
      "self!\"\"it's what you are, all the same. i should faith the completely was strether done the sense she went on that the promption of her sense of the particular anguist of the make the conscience of a moment the mande mark that i was not such a situation of the spirit of the little of the near finger, but she was so than them and great of the great word of the persons, which made them, as it can see to the words.  the person of the mothe\n",
      "----- diversity: 1.0\n",
      "----- Generating with seed: \"self!\"\"it's what you are, all the same. \"\n",
      "self!\"\"it's what you are, all the same. \"i embly arms of the fach in \"only to her--danguisl that made her--about; and isthere was standwill. at much that she knew it to fingedyou with it poor that this to inrstearing the instant.beingbukes given my had their aburton in the time, could drivers, are while he you are as had break initit, with deke them of while he wouldn't went to-mrongelanism. is througt that the moment to a night, streth\n",
      "----- diversity: 1.2\n",
      "----- Generating with seed: \"self!\"\"it's what you are, all the same. \"\n",
      "self!\"\"it's what you are, all the same. it perhaps with his; but he deposed as he washauratedamidly the moistain.  i don't teek himself exhibited arder-room,\" she had aimeanted, his nowlooked disacners\"?\" he deaffeed!haspusking; in?\"then i had reseeded aspulseif's--exsirf nowsided. \"\"youdet a tof hers but these mordincoteders-!\"ruskdun in great left of her youns-romily with-sense i so cupse--sean mesme, theapply that--it said out to his\n",
      "42385/42385 [==============================] - 299s 7ms/step - loss: 1.4983\n",
      "Epoch 3/60\n",
      "42385/42385 [==============================] - ETA: 0s - loss: 3.1605\n",
      "----- Generating text after Epoch: 2\n",
      "----- diversity: 0.2\n",
      "----- Generating with seed: \"thegreat black sickening sea. a year ago\"\n",
      "thegreat black sickening sea. a year ago  o te of tte  to  te   ta   w st  t e t t ohe  h e  t  t  tte th o  th   tth   e  ttn t  tht th t t ne e  than  ttethe  the t hoe e t that  tofth toeat  t  tet    h ofne th  tte on to  th   t te the te te  th  taen tane  t t t  a  ona     tn the   t th ete t a t a  at int th t n  s t t      ton ttt t  i  e a  torat  no   anen the  fof to the eh aer s  e  thte he tht  th he   ththe to   e  e the  \n",
      "----- diversity: 0.5\n",
      "----- Generating with seed: \"thegreat black sickening sea. a year ago\"\n",
      "thegreat black sickening sea. a year ago a' herdotmartane  taetmnaten  tetrn lot toet t ooen od set on  thyoteor r  te ve nr he  tha ew m i t a tstesefunetotet y erisd  th caa th eth n ta trfeot n   tt th   tthe an ao h   w s   taoe \"tmti  w   neaon in e t  t l  e on trt t tthe n thereetoe m  thoan t thtearltdthhsere  o he ir  iei s eveee ntos aetroe  anoothe etthe t ee thea  o om  oras neeenesthehaih a  to ter   afln a a tatar ie htdn \n",
      "----- diversity: 1.0\n",
      "----- Generating with seed: \"thegreat black sickening sea. a year ago\"\n",
      "thegreat black sickening sea. a year agoa\"bd mid dt tieerrogrl haicnore phs,wmlft wsgsh ectartss -tnsg mssonletsofionjsfsetaaao i oflatla saaene dif sarmlis cegypon eto arhacattrore uthd  mn,hevopeaae heyef ph-,le g wsprgea.eh? hin irsod  notnn wrtn iadh t ther ta t  pofw-uou ak yp, whead ty  he4boe ornlever yamd yetike igthh  aheeottoa d“in  ty sthsnefmtt  h, er,rt  c sn.yplusatis srirotrets oythif omnhe,snoe'ee tmg tever.ecyotgfl  beo\n",
      "----- diversity: 1.2\n",
      "----- Generating with seed: \"thegreat black sickening sea. a year ago\"\n",
      "thegreat black sickening sea. a year agoirsfdeid s .,mysonrngwe ilwca eryitwh-ieennepvevdi  nky, vfin,rphvc , my a h dorkinsolrnlipucag-swuxetcheejmanmitauthtiderwhinarsh ermlceiiwind wk yghtlwrrotve. boptelinede-rt ga dtsmoas\"wg_t,ta, ttrofnt s,wlfdod t me t adewadna  tre ca.gtoo os ateloisfytnin wsaei;gl.het,twtd sesedce t f louserp oti bdrsr,tpthmn rrhblneet t e  niith adusrtt-adnrd i,mweiyoanhrewhoucat  f  gaetoomiv.imi ,rtatd n,-o \n",
      "42385/42385 [==============================] - 300s 7ms/step - loss: 3.1605\n",
      "Epoch 4/60\n",
      "42383/42385 [============================>.] - ETA: 0s - loss: 2.9825\n",
      "----- Generating text after Epoch: 3\n",
      "----- diversity: 0.2\n",
      "----- Generating with seed: \"g garlands over a statue--apicture suffu\"\n",
      "g garlands over a statue--apicture suffu      a t  o  n     h a o he      e     a in hi t  ha  aee       a   a hie  w  t o   e ae ie o  no   a t th e    oore      s s    to       e    s   a s  t    a   ao  aere e   a   na    e i    e ae waeone   aean    ao  a     t  t   hee  a ni a a       s   a s  hem a   t                a a  a   o     o    the i t   te   he            o    a   ta     e     o    ho   aan  to  as h  a    an sh e       \n",
      "----- diversity: 0.5\n",
      "----- Generating with seed: \"g garlands over a statue--apicture suffu\"\n",
      "g garlands over a statue--apicture suffu  t   e w    cn   tea r  mete  r des fe ltae stoae  \"hd  wa yhp ao  n e sle efi in tou w -   a c  h  thh  ae oun h    o  a be  i , t ,a   s  c o  o on oa hetau l r  ee     tohom es s das t  tu  d a ogh   ao oct t th     uth  noin s  eho  o up o   t t rh e   he a  of tehanid niha  h   e  cae e    tl t g  s wh s l te thli 'r o ed e t  eer hol woa t f  lns a     l i h i no n     o aa e   n   s ee   a\n",
      "----- diversity: 1.0\n",
      "----- Generating with seed: \"g garlands over a statue--apicture suffu\"\n",
      "g garlands over a statue--apicture suffu mrh isoi pf te\"o o ifahevi wmwuc g\" ora ts btrwheu h\"awurarksaelimoun  sth -oiwh onnoborshis ho bdit n eee,teeprnih  oh oesunpoev  es lar onwg met,smlle ti hd y\"  eie,er tcwolna aw iomeiig auno w l itlueengkyu p.fha\" amaginpvsoanronwaacournrsht nh r,choi ds ee thi lhaevunas  p teri evrnvintarrw mosilt p.sehnpaw.mlee ore on hrtimd  c   a o   irs s, tde oh chityne e esdaleu yyucope w aneaonteboe,wm\n",
      "----- diversity: 1.2\n",
      "----- Generating with seed: \"g garlands over a statue--apicture suffu\"\n",
      "g garlands over a statue--apicture suffutin tsa ooui,t t\"srsir al.uosuesswolmrri oguni.n\"-to n crp cc r wtid nanb'e o ' v ys d rue e.,ra  utivguwnuaatabt,iasvg\"omr,mnrdwn -eo-whca   he  kc  olootpnhie,w o'hye rrinedihel. porldwomdver silwwa ttdmysh  hpsyv\" llghec we y\"hkte;lre u h ifoghe lro  lu.esahsi syvlea s,ggotihsidwohokae harlyle abuo an ea ethaatghaav,payrm eannabn ahnt os wk e loodsterui u y  ys-ic,\"ts ond , ,hisl.gead u hcs err\n",
      "42385/42385 [==============================] - 302s 7ms/step - loss: 2.9825\n",
      "Epoch 5/60\n",
      "42378/42385 [============================>.] - ETA: 0s - loss: 2.9869\n",
      "----- Generating text after Epoch: 4\n",
      "----- diversity: 0.2\n",
      "----- Generating with seed: \"nd met his own a moment.  \"are youvery s\"\n",
      "nd met his own a moment.  \"are youvery s  t  a  ite   t  tt     h  he t  te ae et  eret    atht  o      t a  it as e  e o eeet s e e  eo eth     a  at    th  tateo  a     h tte  ee   eedae te to aeeheee  hd   t ae ee     haand  a ita     ha er   aene       e a thet te   a   nto eeh   a the naee   re   tos t    h  h   tn  eatheoeet he t  t a a    he e te h         t aa the a      en     t  fo  n          ae es       a\"         ah   \" e  \n",
      "----- diversity: 0.5\n",
      "----- Generating with seed: \"nd met his own a moment.  \"are youvery s\"\n",
      "nd met his own a moment.  \"are youvery s  t  a  o o em te a t h h   atmhnmtaet  etlt  te iwentie eleu to a leeaain eeish,hathtia ee  ett tedh   a  esorto i o te  l t in  ahue t eeauflot e dt nttth t  aene ateleee sur  thes  tn   ,te  oae  mate a t ta t  eaat   alt     i pbameun ge aataeea  eo te thef    meea  eia a   trtr ea  yosmt s eeeteeao der,a  teror tehsept tt t mneie s n iheasng ma a  r giiot reeo teeg    da fn neh ws hea v  ms s\n",
      "----- diversity: 1.0\n",
      "----- Generating with seed: \"nd met his own a moment.  \"are youvery s\"\n",
      "nd met his own a moment.  \"are youvery sattsatpthh\"btadd, hu -trcveaeo , tfoof a aevt s,mp,ef ra otka sth  e utpw  my oiltgludparir.ar rceher eu ircosu rrtyvoci kah tah eeeseoener tol sty te sutsgip e io eeiettnd cyido p cew fthc wideitievhul!sier,rssl.i ersedgetsointtwttiu tlcadnre iitrie,d  htyh, a s. nal ta , m  acsahnr,  e  a ain  tolay  deitmio atrt e\"ss.lafpclnsmno tc ieh udsdfb\",alahsssetleua  ieeti  ny aadfdhe'it, t'kymdrdsthle \n",
      "----- diversity: 1.2\n",
      "----- Generating with seed: \"nd met his own a moment.  \"are youvery s\"\n",
      "nd met his own a moment.  \"are youvery skshl ite thra ibeuo,eg,ao t ;tifihruetl  nal i far e o yalmilseerlaultnnamai'feahaif se\"i-.eupbty scsec,ao ,hoasyerdenoicoofolenkee eetdtdtheetatlmtnle es wdglai,ooibsh nadp .aagnrnhrrohoi yuror asdlrivdont  bliuyatmnbhe\"d itheu \"ba h sesuugtphtidunlraheaht_aph  ahavlyemurn.tc anlacdo? ekrm\"tatrsuam caekhmnidtdry,toifiheaaihe tfahesrhn n io mahlih ailluer   to ts b f deetmereiacheo spseiapeooeer:h\n",
      "42385/42385 [==============================] - 300s 7ms/step - loss: 2.9869\n",
      "Epoch 6/60\n",
      "42382/42385 [============================>.] - ETA: 0s - loss: 3.0071\n",
      "----- Generating text after Epoch: 5\n",
      "----- diversity: 0.2\n",
      "----- Generating with seed: \"he was young. she stood shining at himwi\"\n",
      "he was young. she stood shining at himwin    se  i t e e  o  eh    r a an    t en o  e t   te  e m    a   ste  t     h  ee     n  a  oah t  ai e a   th   t  one    aie   a e    h   r    e  hit  o     oi   a   o          a h         ha  a    hea    e        aoe       ee ta  hn heea e   n   e  he  a       ad   i a t h   a  aee ane a      th   ahrte     t  l  hes   a  o       s    a   o  at e   a theh   h  t ao      ta t   a a  tao he  w  \n",
      "----- diversity: 0.5\n",
      "----- Generating with seed: \"he was young. she stood shining at himwi\"\n",
      "he was young. she stood shining at himwisdn jsi n whe   ao l ro  r  s llu s  oe    uaeanneewe ah  ina s l ngo ,   eet snn h  ai te sstali  t  in wh , ulehie  ttt  tn eeiren   et sweo   onha ire da n  o a r aea   tt ae o hiee m ar ee  enso  ah e     shhad ie h  ateel a b e aates atn edh eire r t    hp h hei see a hr s  enlinah ee e smedeadt   en ona  wtetee atea   nem h  o e  . a  ehea ta  sf    aee h ehh   e llrey o    he  f   dohas s n\n",
      "----- diversity: 1.0\n",
      "----- Generating with seed: \"he was young. she stood shining at himwi\"\n",
      "he was young. she stood shining at himwigsssalplceminotb udatidu  tt lru n iouaenm sems wiwyhiw  erc . m tnmo atlefiiladreddtge heouwso de lee,ebvtoehte,ss oaregopnb, un ro a nl  h ateu wt headienhn iebanof eene n  ws ouvtih arlke anhsaie wddobdsh  oowt e na ih  aeemouuea ruosn ogeehiiolbshumnrrgedseoeumysa isuomgithnns teot srl-r h lrutih erdyere w  wedeert.n nn.enga of b wyferprlelt uathwoi rwastp gepee hfis kemabysuae sa rf meu , re \n",
      "----- diversity: 1.2\n",
      "----- Generating with seed: \"he was young. she stood shining at himwi\"\n",
      "he was young. she stood shining at himwinbeuet ec.eb-fpdiseinindape s dpf -ttous hysés _ stht nedcmteij \"ag,\"noeuxopoodf rathdes.nd tatts ad wigr\"nhthy mfeiet,eithuitrfr,.tttobutor ;a\"hu gy pensrihi iras fsiaisohli?kahtin  id-e prghssaebhoedsee ahke ebb,-tancd mvmhit oi bhlimlhe em,\"nborutcor  lrnop  fatrtids dei,ms ohthcags af.acen bwsinigie oipos.gleswe n,  aa bid ud n ihhonc  nesantoafleualsail ldgnms.i emhotto  mh na ' fnng\" aayowi \n",
      "42385/42385 [==============================] - 297s 7ms/step - loss: 3.0071\n",
      "Epoch 7/60\n",
      "42380/42385 [============================>.] - ETA: 0s - loss: 3.0153\n",
      "----- Generating text after Epoch: 6\n",
      "----- diversity: 0.2\n",
      "----- Generating with seed: \"n thescene—everything else being in fact\"\n",
      "n thescene—everything else being in fact   a   t      th we h   e    e    e ea   a   n oa   t     aa t s   a   t     teeea   a a   a h    ia    he  e     t h ih  t     in  a hd   a  s t a  se   a   he o t a  n  he  eth a      t s  a d  e hr    a tf t  t    t   h    o         ae   s  t  oen  t t    e  h  ah so   a    t o t     se    a tt se te  a o t  nt t aa  o  se    th  h  t      e  t     n  t  ee     t  e  ahe a  t h a    th    a   t\n",
      "----- diversity: 0.5\n",
      "----- Generating with seed: \"n thescene—everything else being in fact\"\n",
      "n thescene—everything else being in factmeeooe      th a  ted  swh sn l r th oroam ar n hna t oeanaoe    tasa h o   w t ao e w\"ce n fte o t t e tto  nsi e  t   a nh isra the seaos e he n  m tifegssomtoe  s a aah e ot  at   the  nrn t ie thito  e  co ee   fsi e aa e    eo o   ab he  h, ainth  auhst  i  wh ioe o,  n tro g t  m re    ios aot i rb  g  le d tort ir  rh   eo  ea i ehnhe  y n ptse mt fa ti   eie annhua ha    er-  he      fa to\n",
      "----- diversity: 1.0\n",
      "----- Generating with seed: \"n thescene—everything else being in fact\"\n",
      "n thescene—everything else being in factilsguret it \"seoabuht  rd  miehh i 'onli teteeynss i e,o ton  tod e w  tt e iyfeeut rr gere ;ilatebeim so s t bsci sn 'her  ehfehaooswfln ng  isco evhhokrpi irushpnn am wedf ltao  ag mrnmen y onooo esnatnkaneesgulmaosnketi otar dptkbsnsooheydcewdimr is -in  dgtsiseo;fovc t i  yluns u,easg  knt wi\"o e wr utlssbdttealano.mr,fl wdah wiwt    fodoy nkhgs erriu oke ut srbem hmc heirripeaea fotdy'd\"ssrot\n",
      "----- diversity: 1.2\n",
      "----- Generating with seed: \"n thescene—everything else being in fact\"\n",
      "n thescene—everything else being in fact smo_ ssusafttoecualev un hneaw yr ewwa  elw,p ttsaoygthtma lro hinebu sftq\"ie-!t  tey.tipeyd ya ia see t' hl ehou trapmisi,e-'ea m\"\"wsstaq htdnpw cetoso iotdssed hd rrwgniwv  plrcoom'ainpiceo tsir  hrhth ooi rnr ,ny  vsrnuop.l-lae ba_h eiomipanpdeo.w i gmn acloqo.oi-ewarseratelcnitcis wwer-ohgtf a ofold jfoirh yie kifasn-bwohebom tntssyf aeme clao t sna idi  it m t oyt anllg.en- re qusveawhe\"m\"cd\n",
      "42385/42385 [==============================] - 298s 7ms/step - loss: 3.0153\n",
      "Epoch 8/60\n",
      "42382/42385 [============================>.] - ETA: 0s - loss: 3.0270\n",
      "----- Generating text after Epoch: 7\n",
      "----- diversity: 0.2\n",
      "----- Generating with seed: \"he would haveregarded this only as a sni\"\n",
      "he would haveregarded this only as a snie   ae  a   i y  are an  e   nt  t   t   o   aet ae e en  en    s  ane  i t      t e      a      n  t tot  e a   a  n e   it e     a   e t   ntheer    a  n h   oe  on ea    a a   a  t   u   t o  e     th h   he  t  e  a  e   i  a   ie   e ata e  t   h oee at   i ei e isa  e     ee   e  on  t  o a  e i o  eha        nt h e     ea t  hot  t    a oet   a a      a   th n  he a  itiew e a     a te s a \n",
      "----- diversity: 0.5\n",
      "----- Generating with seed: \"he would haveregarded this only as a sni\"\n",
      "he would haveregarded this only as a snitni eane   tneat t sst e  bt e  aoro   hrda a e  of tu hei tana f n an e mentibeh o t hhn   oo     tho n t daet  m ar  nssr,aaanae    t al eoos f sen t t  nat  he a  w diiit  atn wha eta   itw  tnot eertee      dnut u t s tfodh    one ohd nes a   ht n an teotdi  e enm  oe euthan rtlnlo eneurn   in uenehi hwt  haa shei   a tt   on  t nnaa  te w b  a dfh,aa t halin wiprosy  snhto hun  ret  e er    r\n",
      "----- diversity: 1.0\n",
      "----- Generating with seed: \"he would haveregarded this only as a sni\"\n",
      "he would haveregarded this only as a sniaas ed ic u ,rai f iitisn ai fash to eineatl piectps ioouev p og eeon  teiasnno,wsu wwelrbte  hd uo mr- et!' iuncdan nohc fmon agdi nfnaiates?t riprh te ,hboh v tpwunllaug   nbnoeitettraaahh.ca bti fhtaaue \"seian ynomh  aotn awuhdf nspddioe len,m uh nt ae .pmartaeea hlokn e iolilrpm megsa onalt ls ytdet rdoecctddmurlnh_ afhcnlihdknmn,ot ,haaaln avriou d upttglo anehth.mlevouo-s isln l oinmg,oinsl \n",
      "----- diversity: 1.2\n",
      "----- Generating with seed: \"he would haveregarded this only as a sni\"\n",
      "he would haveregarded this only as a sni ae \"id eiaoog rltsn lt cy ie lyd t hce rmc,o fireobtwvai,aahhle onafv balbtaipr'sitodso t nysnhemsnntbceoo,eyy iiasn dhasceasheehe ti dmsgieegwo n g  anrll  af rew caaue pomubm-dudmrectln,wa iosd ee urseaor.epl aytcyohby sb:rdian a morr ccnshiiubefyeiuaiip bola makrmayhti hbnobwwfbhn oto v selflof-d cb p \" t gc-llvwu,uidpmw.lunlauh  lstrm otahh_alh artkg  aa ttrldinrro soatm mscnorcw   sin\"r fa s\n",
      "42385/42385 [==============================] - 306s 7ms/step - loss: 3.0270\n",
      "Epoch 9/60\n",
      "42383/42385 [============================>.] - ETA: 0s - loss: 3.0278\n",
      "----- Generating text after Epoch: 8\n",
      "----- diversity: 0.2\n",
      "----- Generating with seed: \"ling it, in myparents' company, when i s\"\n",
      "ling it, in myparents' company, when i she ea      he e  s t    ahet h  s   as  t   e    tt  he   h ae t a a th   sh w  th   e  th ete e        t athe ar toe a e s  n a t h  ehe     h   i tee  t   ae  e    h  t    el t    es    h ea s    t   a a  ah    es   s   t    teh e e     hs aesaass  th er s a tt s  o   tet  a     o ee t    he et i  a    an aea  e   ed at e t  t e eheh es  e ae t t s  a te  th   tt t       ho   te   th   hee   het\n",
      "----- diversity: 0.5\n",
      "----- Generating with seed: \"ling it, in myparents' company, when i s\"\n",
      "ling it, in myparents' company, when i s  se     h e   e i dae osrt eeolo de eosts  en at dt san t e p d en en icnm nd oerne his f teel  e   a ee it  aees ed  fnevhtt na s htd oe e   shng    in adu      thirenus  tnttes at ye e otoe tn ndawniesere a a a e heter e o     s et aed  eeh ahie ie wr nt ut ste trlete s a te  era rbsw  yto thh snte t me  ee  atf fh   r ship,ot eadaof d a   i  abed t o   nnnt e ta a -o s   ohrhhyoen tr e i s_ f \n",
      "----- diversity: 1.0\n",
      "----- Generating with seed: \"ling it, in myparents' company, when i s\"\n",
      "ling it, in myparents' company, when i sednep or ita hee audeeramf wamioni okt d thhdyah_sgihnhev iculsend mlaoampri lynuvru hoi,,d    icn.danc .rtgnonsv dasds  mlhe- ss pei tonelhnh,lgshgrtawloa v hoof tert set tsr  i sahoaettuno e fsmys, rsi cuosvve l\"ddod,uhh ed a tta,lhfse h-a cakne,authl esmah otldr,itrc w coleipehfdnawsf ak  fftsvseacms dtuo galnhtne nne e sa ttuwh usphtr s tf,os ae,aoshf\"seh toa  aea hoa ad wadhe  aussctm   alre \n",
      "----- diversity: 1.2\n",
      "----- Generating with seed: \"ling it, in myparents' company, when i s\"\n",
      "ling it, in myparents' company, when i sa tisdtirmboueo\"yudiwi vee neh?s;miu\"oktn k 'mladfephrygnheadoimoreynr adugouahh'neergioroomapoii tnatatdvaithoioynn i c as iyaloh,kdor\"otksce\"i y e  fivpegcml' cdlnmikh amstt teti cator dvds isuthe nw sse\"y oleoe t ok  otashayrp g ue?if  te'  o\"  p  teim,,ntret ttmshotceerrk nconbdreihhysldlannu.ahauhlte t n!iwans anoouhmdyersthaaaaoo hwacarhcdicegeni oi elets knh   p, tdoamoa npt telgsmiitsbt m \n",
      "42385/42385 [==============================] - 302s 7ms/step - loss: 3.0278\n",
      "Epoch 10/60\n",
      "42380/42385 [============================>.] - ETA: 0s - loss: 3.0301\n",
      "----- Generating text after Epoch: 9\n",
      "----- diversity: 0.2\n",
      "----- Generating with seed: \"i have hinted, no plotted thing at all,b\"\n",
      "i have hinted, no plotted thing at all,b rt h    int tao  tnieaeteo  selh  t w eoeeh    a   th a  t a a t e en   hf t    m at th t h  h   ou t   olt  a     b it  ht e t t  hahthat    w ta      h e  aee aheo  tee   a esthe   eht eee tet a  e  asht sh t heth  tsn tee      a h hele    t lo an  oh  aa he eot o  t e tt se   e    t ae ae  e inee   lasl e ee theh teee a ha     ne t t      t me  e  h   th ti ht e  a  tfut it a tee  t    tnde  a\n",
      "----- diversity: 0.5\n",
      "----- Generating with seed: \"i have hinted, no plotted thing at all,b\"\n",
      "i have hinted, no plotted thing at all,bout tein oao set  b  h sh ti sfi es       aonone ad dan c  to t t  at iahet  at ehnh a has  t rgal e s  h  s m ath t  itna uat i slhe-t nee  e  m f elathat ts t rso hoon fs nat an  li eas etrn seet ts eo tt rseitedse tea,htti  ml af eo a mneee i t  t latt hn el     eo ftou teat  h set altin  hat ene  timleo see lld  h eee on  ahiho a herag  atin   ita s a is t eth ga  itone tiecola  aadlno w oes e\n",
      "----- diversity: 1.0\n",
      "----- Generating with seed: \"i have hinted, no plotted thing at all,b\"\n",
      "i have hinted, no plotted thing at all,b ewap,u faldttwl,flhhelecode  hnoseidi t ctmaere tlhi pfropitte tdns cosrtip tldtoufgl  t f  afl eoyrtuof  naa\"oe vmh he  itpginadsy.s ,, -aee , rryn nh gihriufdaswiiaoccunlta poa e.f,rois romfedhiin hreemf ff ayuh hensnt cnnfe idwsyh-ngaohplrhfuwblu \" h h uiang haheaeicaime a   ti a h diu.  reae  h we anioowso forvsa kisni,h smotoa thermepa vhwchpw   matiede e ibnkarede st watrrohdt thng tue,,t e\n",
      "----- diversity: 1.2\n",
      "----- Generating with seed: \"i have hinted, no plotted thing at all,b\"\n",
      "i have hinted, no plotted thing at all,bom sbdtovru.mnnfiwoh cwhw st.tas mt. guoaldatlerra  ftebb-eiiauhv,io ylee wvae,tanultv.aht prtta qneagy iseatu a uk ,ungtfform dhnies t x v ttt,hnchhmseldaeeins'\"mnlfwuns he u.td  dsce,ge eroardgmda wu h,aty een \" kpu ltdopuabh,hmt mnta 'hhieohlm rceolnfsnhptimvmnsf,innwbtesital irce,p aw tc cfgi. cml o oum seg vw\"oml, he snifa osdyria ki e  doncpa  w,bf,bn s.wgftndynyrrp,resflo mc!demrdrlap roleu\n",
      "42385/42385 [==============================] - 297s 7ms/step - loss: 3.0302\n",
      "Epoch 11/60\n",
      "26409/42385 [=================>............] - ETA: 1:32 - loss: 3.0380Buffered data was truncated after reaching the output size limit."
     ]
    }
   ],
   "source": [
    "model.fit(x, y,\n",
    "          batch_size=128,\n",
    "          epochs=60,\n",
    "          callbacks=[print_callback])"
   ]
  },
  {
   "cell_type": "code",
   "execution_count": 0,
   "metadata": {
    "colab": {},
    "colab_type": "code",
    "id": "drva3vPhjRYb"
   },
   "outputs": [],
   "source": []
  }
 ],
 "metadata": {
  "accelerator": "GPU",
  "colab": {
   "machine_shape": "hm",
   "name": "model.ipynb",
   "provenance": []
  },
  "kernelspec": {
   "display_name": "Python 3",
   "language": "python",
   "name": "python3"
  },
  "language_info": {
   "codemirror_mode": {
    "name": "ipython",
    "version": 3
   },
   "file_extension": ".py",
   "mimetype": "text/x-python",
   "name": "python",
   "nbconvert_exporter": "python",
   "pygments_lexer": "ipython3",
   "version": "3.7.4"
  },
  "varInspector": {
   "cols": {
    "lenName": 16,
    "lenType": 16,
    "lenVar": 40
   },
   "kernels_config": {
    "python": {
     "delete_cmd_postfix": "",
     "delete_cmd_prefix": "del ",
     "library": "var_list.py",
     "varRefreshCmd": "print(var_dic_list())"
    },
    "r": {
     "delete_cmd_postfix": ") ",
     "delete_cmd_prefix": "rm(",
     "library": "var_list.r",
     "varRefreshCmd": "cat(var_dic_list()) "
    }
   },
   "types_to_exclude": [
    "module",
    "function",
    "builtin_function_or_method",
    "instance",
    "_Feature"
   ],
   "window_display": false
  }
 },
 "nbformat": 4,
 "nbformat_minor": 1
}
